{
 "cells": [
  {
   "cell_type": "code",
   "execution_count": null,
   "id": "408fbf55",
   "metadata": {},
   "outputs": [
    {
     "data": {
      "text/plain": [
       "True"
      ]
     },
     "execution_count": 5,
     "metadata": {},
     "output_type": "execute_result"
    }
   ],
   "source": [
    "from langchain_community.document_loaders import PyPDFLoader\n",
    "from langchain.text_splitter import RecursiveCharacterTextSplitter\n",
    "from langchain_openai import AzureOpenAIEmbeddings\n",
    "from langchain_qdrant import QdrantVectorStore\n",
    "\n",
    "from glob import glob\n",
    "import logging\n",
    "import os\n",
    "from dotenv import load_dotenv\n",
    "\n",
    "load_dotenv()\n"
   ]
  },
  {
   "cell_type": "code",
   "execution_count": 10,
   "id": "67c8c8d8",
   "metadata": {},
   "outputs": [
    {
     "name": "stderr",
     "output_type": "stream",
     "text": [
      "INFO:root:docs\\Dubai Brochure.pdf\n",
      "INFO:root:docs\\Las Vegas Brochure.pdf\n",
      "INFO:root:docs\\London Brochure.pdf\n",
      "INFO:root:docs\\Margies Travel Company Info.pdf\n",
      "INFO:root:docs\\New York Brochure.pdf\n",
      "INFO:root:docs\\San Francisco Brochure.pdf\n"
     ]
    }
   ],
   "source": [
    "logging.basicConfig(level=logging.INFO)\n",
    "\n",
    "text_splitter = RecursiveCharacterTextSplitter(\n",
    "    chunk_size=200,\n",
    "    chunk_overlap=50,\n",
    "    separators=[\"\\n\\n\", \"\\n\", \" \"]\n",
    ")\n",
    "\n",
    "all_docs = []\n",
    "for pdf_path in glob(\"docs/*.pdf\"):\n",
    "    logging.info(pdf_path)\n",
    "    loader = PyPDFLoader(pdf_path)\n",
    "    documents = loader.load()\n",
    "    chunks = text_splitter.split_documents(documents)\n",
    "    all_docs.extend(chunks)\n",
    "\n",
    "\n"
   ]
  },
  {
   "cell_type": "code",
   "execution_count": null,
   "id": "7f12fd78",
   "metadata": {},
   "outputs": [
    {
     "data": {
      "text/plain": [
       "[Document(metadata={'producer': '䵩捲潳潦璮⁗潲搠景爠佦晩捥″㘵㬠浯摩晩敤⁵獩湧\\u2069呥硴卨慲瀠㐮ㄮ㘠批‱吳塔', 'creator': 'Microsoft® Word for Office 365', 'creationdate': '2019-04-17T14:39:32-07:00', 'author': 'Margies Travel', 'moddate': '2020-07-02T08:19:53-07:00', 'title': 'Brochure', 'subject': 'Brochure', 'source': 'docs\\\\Dubai Brochure.pdf', 'total_pages': 1, 'page': 0, 'page_label': '1'}, page_content='Margie’s Travel Presents… \\nDubai \\n \\n \\nDubai is the largest and most populous city in the United \\nArab Emirates. It is located on the southeast coast of the'),\n",
       " Document(metadata={'producer': '䵩捲潳潦璮⁗潲搠景爠佦晩捥″㘵㬠浯摩晩敤⁵獩湧\\u2069呥硴卨慲瀠㐮ㄮ㘠批‱吳塔', 'creator': 'Microsoft® Word for Office 365', 'creationdate': '2019-04-17T14:39:32-07:00', 'author': 'Margies Travel', 'moddate': '2020-07-02T08:19:53-07:00', 'title': 'Brochure', 'subject': 'Brochure', 'source': 'docs\\\\Dubai Brochure.pdf', 'total_pages': 1, 'page': 0, 'page_label': '1'}, page_content='Persian Gulf and is the capital of the Emirate of Dubai, \\none of the seven emirates that make up the country. Abu \\nDhabi and Dubai are the only two emirates to have veto'),\n",
       " Document(metadata={'producer': '䵩捲潳潦璮⁗潲搠景爠佦晩捥″㘵㬠浯摩晩敤⁵獩湧\\u2069呥硴卨慲瀠㐮ㄮ㘠批‱吳塔', 'creator': 'Microsoft® Word for Office 365', 'creationdate': '2019-04-17T14:39:32-07:00', 'author': 'Margies Travel', 'moddate': '2020-07-02T08:19:53-07:00', 'title': 'Brochure', 'subject': 'Brochure', 'source': 'docs\\\\Dubai Brochure.pdf', 'total_pages': 1, 'page': 0, 'page_label': '1'}, page_content=\"power over critical matters of national importance in the \\ncountry's Federal Supreme Council. The city of Dubai is \\nlocated on the emirate's northern coastline and heads the\"),\n",
       " Document(metadata={'producer': '䵩捲潳潦璮⁗潲搠景爠佦晩捥″㘵㬠浯摩晩敤⁵獩湧\\u2069呥硴卨慲瀠㐮ㄮ㘠批‱吳塔', 'creator': 'Microsoft® Word for Office 365', 'creationdate': '2019-04-17T14:39:32-07:00', 'author': 'Margies Travel', 'moddate': '2020-07-02T08:19:53-07:00', 'title': 'Brochure', 'subject': 'Brochure', 'source': 'docs\\\\Dubai Brochure.pdf', 'total_pages': 1, 'page': 0, 'page_label': '1'}, page_content='Dubai-Sharjah-Ajman metropolitan area. \\n \\n \\n \\n \\nDubai Hotels \\nMargie’s Travel offers the following accommodation \\noptions in Dubai: \\nThe Creek Hotel'),\n",
       " Document(metadata={'producer': '䵩捲潳潦璮⁗潲搠景爠佦晩捥″㘵㬠浯摩晩敤⁵獩湧\\u2069呥硴卨慲瀠㐮ㄮ㘠批‱吳塔', 'creator': 'Microsoft® Word for Office 365', 'creationdate': '2019-04-17T14:39:32-07:00', 'author': 'Margies Travel', 'moddate': '2020-07-02T08:19:53-07:00', 'title': 'Brochure', 'subject': 'Brochure', 'source': 'docs\\\\Dubai Brochure.pdf', 'total_pages': 1, 'page': 0, 'page_label': '1'}, page_content='options in Dubai: \\nThe Creek Hotel \\nFriendly boutique hotel within the heart of the bustling \\nDubai Creek area. \\nThe Deira Hotel \\nFamily-run hotel in Dubai’s traditional commercial \\ncenter.'),\n",
       " Document(metadata={'producer': '䵩捲潳潦璮⁗潲搠景爠佦晩捥″㘵㬠浯摩晩敤⁵獩湧\\u2069呥硴卨慲瀠㐮ㄮ㘠批‱吳塔', 'creator': 'Microsoft® Word for Office 365', 'creationdate': '2019-04-17T14:39:32-07:00', 'author': 'Margies Travel', 'moddate': '2020-07-02T08:19:53-07:00', 'title': 'Brochure', 'subject': 'Brochure', 'source': 'docs\\\\Dubai Brochure.pdf', 'total_pages': 1, 'page': 0, 'page_label': '1'}, page_content='center. \\nThe Lost City Hotel \\nLuxurious accommodation in Dubai, with onsite \\nwaterpark and aquarium. \\n \\n \\n \\nTo book your trip to Dubai, visit www.margiestravel.com'),\n",
       " Document(metadata={'producer': '䵩捲潳潦璮⁗潲搠景爠佦晩捥″㘵㬠浯摩晩敤⁵獩湧\\u2069呥硴卨慲瀠㐮ㄮ㘠批‱吳塔', 'creator': 'Microsoft® Word for Office 365', 'creationdate': '2019-04-17T14:48:16-07:00', 'author': 'Margies Travel', 'moddate': '2020-07-02T08:19:53-07:00', 'title': 'Brochure', 'subject': 'Brochure', 'source': 'docs\\\\Las Vegas Brochure.pdf', 'total_pages': 1, 'page': 0, 'page_label': '1'}, page_content='Margie’s Travel Presents… \\nLas Vegas \\n Las Vegas, officially \\nthe City of Las Vegas \\nand often known \\nsimply as Vegas, is the \\n28th-most populated \\ncity in the United \\nStates, the most'),\n",
       " Document(metadata={'producer': '䵩捲潳潦璮⁗潲搠景爠佦晩捥″㘵㬠浯摩晩敤⁵獩湧\\u2069呥硴卨慲瀠㐮ㄮ㘠批‱吳塔', 'creator': 'Microsoft® Word for Office 365', 'creationdate': '2019-04-17T14:48:16-07:00', 'author': 'Margies Travel', 'moddate': '2020-07-02T08:19:53-07:00', 'title': 'Brochure', 'subject': 'Brochure', 'source': 'docs\\\\Las Vegas Brochure.pdf', 'total_pages': 1, 'page': 0, 'page_label': '1'}, page_content='city in the United \\nStates, the most \\npopulated city in the \\nstate of Nevada, and \\nthe county seat of \\nClark County. The city \\nanchors the Las Vegas \\nValley metropolitan \\narea and is the largest'),\n",
       " Document(metadata={'producer': '䵩捲潳潦璮⁗潲搠景爠佦晩捥″㘵㬠浯摩晩敤⁵獩湧\\u2069呥硴卨慲瀠㐮ㄮ㘠批‱吳塔', 'creator': 'Microsoft® Word for Office 365', 'creationdate': '2019-04-17T14:48:16-07:00', 'author': 'Margies Travel', 'moddate': '2020-07-02T08:19:53-07:00', 'title': 'Brochure', 'subject': 'Brochure', 'source': 'docs\\\\Las Vegas Brochure.pdf', 'total_pages': 1, 'page': 0, 'page_label': '1'}, page_content='Valley metropolitan \\narea and is the largest \\ncity within the greater Mojave Desert. Las Vegas is an internationally renowned major resort city,'),\n",
       " Document(metadata={'producer': '䵩捲潳潦璮⁗潲搠景爠佦晩捥″㘵㬠浯摩晩敤⁵獩湧\\u2069呥硴卨慲瀠㐮ㄮ㘠批‱吳塔', 'creator': 'Microsoft® Word for Office 365', 'creationdate': '2019-04-17T14:48:16-07:00', 'author': 'Margies Travel', 'moddate': '2020-07-02T08:19:53-07:00', 'title': 'Brochure', 'subject': 'Brochure', 'source': 'docs\\\\Las Vegas Brochure.pdf', 'total_pages': 1, 'page': 0, 'page_label': '1'}, page_content='known primarily for its gambling, shopping, fine dining, entertainment, and nightlife. The Las Vegas \\nValley as a whole serves as the leading financial, commercial, and cultural center for Nevada.'),\n",
       " Document(metadata={'producer': '䵩捲潳潦璮⁗潲搠景爠佦晩捥″㘵㬠浯摩晩敤⁵獩湧\\u2069呥硴卨慲瀠㐮ㄮ㘠批‱吳塔', 'creator': 'Microsoft® Word for Office 365', 'creationdate': '2019-04-17T14:48:16-07:00', 'author': 'Margies Travel', 'moddate': '2020-07-02T08:19:53-07:00', 'title': 'Brochure', 'subject': 'Brochure', 'source': 'docs\\\\Las Vegas Brochure.pdf', 'total_pages': 1, 'page': 0, 'page_label': '1'}, page_content='Las Vegas Hotels \\nMargie’s Travel offers the \\nfollowing hotels in Las \\nVegas: \\nThe Volcano Hotel \\nIn the heart of The Strip. \\nStylish casino hotel with \\nlive entertainment and an'),\n",
       " Document(metadata={'producer': '䵩捲潳潦璮⁗潲搠景爠佦晩捥″㘵㬠浯摩晩敤⁵獩湧\\u2069呥硴卨慲瀠㐮ㄮ㘠批‱吳塔', 'creator': 'Microsoft® Word for Office 365', 'creationdate': '2019-04-17T14:48:16-07:00', 'author': 'Margies Travel', 'moddate': '2020-07-02T08:19:53-07:00', 'title': 'Brochure', 'subject': 'Brochure', 'source': 'docs\\\\Las Vegas Brochure.pdf', 'total_pages': 1, 'page': 0, 'page_label': '1'}, page_content='live entertainment and an \\nextensive pool area. \\nThe Fountain Hotel \\nLuxury accommodation in \\nLas Vegas with a range of \\nrestaurants and cocktail \\nbars \\nThe Canal Hotel \\nAn opulent Italian-themed'),\n",
       " Document(metadata={'producer': '䵩捲潳潦璮⁗潲搠景爠佦晩捥″㘵㬠浯摩晩敤⁵獩湧\\u2069呥硴卨慲瀠㐮ㄮ㘠批‱吳塔', 'creator': 'Microsoft® Word for Office 365', 'creationdate': '2019-04-17T14:48:16-07:00', 'author': 'Margies Travel', 'moddate': '2020-07-02T08:19:53-07:00', 'title': 'Brochure', 'subject': 'Brochure', 'source': 'docs\\\\Las Vegas Brochure.pdf', 'total_pages': 1, 'page': 0, 'page_label': '1'}, page_content='bars \\nThe Canal Hotel \\nAn opulent Italian-themed \\nresort with luxurious suite \\naccommodation. \\n \\nTo book your trip to Las Vegas, visit www.margiestravel.com'),\n",
       " Document(metadata={'producer': '䵩捲潳潦璮⁗潲搠景爠佦晩捥″㘵㬠浯摩晩敤⁵獩湧\\u2069呥硴卨慲瀠㐮ㄮ㘠批‱吳塔', 'creator': 'Microsoft® Word for Office 365', 'creationdate': '2019-04-17T14:53:37-07:00', 'author': 'Margies Travel', 'moddate': '2020-07-02T08:19:53-07:00', 'title': 'Brochure', 'subject': 'Brochure', 'source': 'docs\\\\London Brochure.pdf', 'total_pages': 1, 'page': 0, 'page_label': '1'}, page_content='Margie’s Travel Presents… \\nLondon \\nLondon is the capital and \\nmost populous city of \\nEngland and the United \\nKingdom. Standing on the \\nRiver Thames in the south \\neast of the island of Great'),\n",
       " Document(metadata={'producer': '䵩捲潳潦璮⁗潲搠景爠佦晩捥″㘵㬠浯摩晩敤⁵獩湧\\u2069呥硴卨慲瀠㐮ㄮ㘠批‱吳塔', 'creator': 'Microsoft® Word for Office 365', 'creationdate': '2019-04-17T14:53:37-07:00', 'author': 'Margies Travel', 'moddate': '2020-07-02T08:19:53-07:00', 'title': 'Brochure', 'subject': 'Brochure', 'source': 'docs\\\\London Brochure.pdf', 'total_pages': 1, 'page': 0, 'page_label': '1'}, page_content=\"east of the island of Great \\nBritain, London has been \\na major settlement for two \\nmillennia. It was founded \\nby the Romans, who \\nnamed it Londinium. \\nLondon's ancient core, the\"),\n",
       " Document(metadata={'producer': '䵩捲潳潦璮⁗潲搠景爠佦晩捥″㘵㬠浯摩晩敤⁵獩湧\\u2069呥硴卨慲瀠㐮ㄮ㘠批‱吳塔', 'creator': 'Microsoft® Word for Office 365', 'creationdate': '2019-04-17T14:53:37-07:00', 'author': 'Margies Travel', 'moddate': '2020-07-02T08:19:53-07:00', 'title': 'Brochure', 'subject': 'Brochure', 'source': 'docs\\\\London Brochure.pdf', 'total_pages': 1, 'page': 0, 'page_label': '1'}, page_content=\"named it Londinium. \\nLondon's ancient core, the \\nCity of London, largely \\nretains its 1.12-square-\\nmile medieval boundaries.\"),\n",
       " Document(metadata={'producer': '䵩捲潳潦璮⁗潲搠景爠佦晩捥″㘵㬠浯摩晩敤⁵獩湧\\u2069呥硴卨慲瀠㐮ㄮ㘠批‱吳塔', 'creator': 'Microsoft® Word for Office 365', 'creationdate': '2019-04-17T14:53:37-07:00', 'author': 'Margies Travel', 'moddate': '2020-07-02T08:19:53-07:00', 'title': 'Brochure', 'subject': 'Brochure', 'source': 'docs\\\\London Brochure.pdf', 'total_pages': 1, 'page': 0, 'page_label': '1'}, page_content='mile medieval boundaries. \\nSince at least the 19th century, London has also referred to the metropolis around this core,'),\n",
       " Document(metadata={'producer': '䵩捲潳潦璮⁗潲搠景爠佦晩捥″㘵㬠浯摩晩敤⁵獩湧\\u2069呥硴卨慲瀠㐮ㄮ㘠批‱吳塔', 'creator': 'Microsoft® Word for Office 365', 'creationdate': '2019-04-17T14:53:37-07:00', 'author': 'Margies Travel', 'moddate': '2020-07-02T08:19:53-07:00', 'title': 'Brochure', 'subject': 'Brochure', 'source': 'docs\\\\London Brochure.pdf', 'total_pages': 1, 'page': 0, 'page_label': '1'}, page_content='historically split between Middlesex, Essex, Surrey, Kent, and Hertfordshire, which today largely \\nmakes up Greater London, governed by the Mayor of London and the London Assembly.'),\n",
       " Document(metadata={'producer': '䵩捲潳潦璮⁗潲搠景爠佦晩捥″㘵㬠浯摩晩敤⁵獩湧\\u2069呥硴卨慲瀠㐮ㄮ㘠批‱吳塔', 'creator': 'Microsoft® Word for Office 365', 'creationdate': '2019-04-17T14:53:37-07:00', 'author': 'Margies Travel', 'moddate': '2020-07-02T08:19:53-07:00', 'title': 'Brochure', 'subject': 'Brochure', 'source': 'docs\\\\London Brochure.pdf', 'total_pages': 1, 'page': 0, 'page_label': '1'}, page_content='Mostly popular for: \\nLeisure, Outdoors, Historical, Arts \\n& Culture \\n \\nBest time to visit: \\nJun-Aug  \\nAverag Precipitation: 1.9 in \\nAverage Temperature: 56-67°F  \\n \\n \\nLondon Hotels'),\n",
       " Document(metadata={'producer': '䵩捲潳潦璮⁗潲搠景爠佦晩捥″㘵㬠浯摩晩敤⁵獩湧\\u2069呥硴卨慲瀠㐮ㄮ㘠批‱吳塔', 'creator': 'Microsoft® Word for Office 365', 'creationdate': '2019-04-17T14:53:37-07:00', 'author': 'Margies Travel', 'moddate': '2020-07-02T08:19:53-07:00', 'title': 'Brochure', 'subject': 'Brochure', 'source': 'docs\\\\London Brochure.pdf', 'total_pages': 1, 'page': 0, 'page_label': '1'}, page_content='Average Temperature: 56-67°F  \\n \\n \\nLondon Hotels \\nMargie’s Travel offers the following accommodation options in London: \\nThe Buckingham Hotel'),\n",
       " Document(metadata={'producer': '䵩捲潳潦璮⁗潲搠景爠佦晩捥″㘵㬠浯摩晩敤⁵獩湧\\u2069呥硴卨慲瀠㐮ㄮ㘠批‱吳塔', 'creator': 'Microsoft® Word for Office 365', 'creationdate': '2019-04-17T14:53:37-07:00', 'author': 'Margies Travel', 'moddate': '2020-07-02T08:19:53-07:00', 'title': 'Brochure', 'subject': 'Brochure', 'source': 'docs\\\\London Brochure.pdf', 'total_pages': 1, 'page': 0, 'page_label': '1'}, page_content='The Buckingham Hotel \\nComfortable hotel close to major sights like Buckingham Palace, Regent’s Park, and Trafalgar \\nSquare. \\nThe City Hotel'),\n",
       " Document(metadata={'producer': '䵩捲潳潦璮⁗潲搠景爠佦晩捥″㘵㬠浯摩晩敤⁵獩湧\\u2069呥硴卨慲瀠㐮ㄮ㘠批‱吳塔', 'creator': 'Microsoft® Word for Office 365', 'creationdate': '2019-04-17T14:53:37-07:00', 'author': 'Margies Travel', 'moddate': '2020-07-02T08:19:53-07:00', 'title': 'Brochure', 'subject': 'Brochure', 'source': 'docs\\\\London Brochure.pdf', 'total_pages': 1, 'page': 0, 'page_label': '1'}, page_content='Square. \\nThe City Hotel \\nLuxury rooms in the city, within walking distance of Tower Bridge and the Tower of London. . \\nThe Kensington Hotel \\nBudget accommodation near Earl’s Court.'),\n",
       " Document(metadata={'producer': '䵩捲潳潦璮⁗潲搠景爠佦晩捥″㘵㬠浯摩晩敤⁵獩湧\\u2069呥硴卨慲瀠㐮ㄮ㘠批‱吳塔', 'creator': 'Microsoft® Word for Office 365', 'creationdate': '2019-04-17T14:53:37-07:00', 'author': 'Margies Travel', 'moddate': '2020-07-02T08:19:53-07:00', 'title': 'Brochure', 'subject': 'Brochure', 'source': 'docs\\\\London Brochure.pdf', 'total_pages': 1, 'page': 0, 'page_label': '1'}, page_content='Budget accommodation near Earl’s Court. \\nTo book your trip to London, visit www.margiestravel.com'),\n",
       " Document(metadata={'producer': '䵩捲潳潦璮⁗潲搠景爠佦晩捥″㘵㬠浯摩晩敤⁵獩湧\\u2069呥硴卨慲瀠㐮ㄮ㘠批‱吳塔', 'creator': 'Microsoft® Word for Office 365', 'creationdate': '2019-04-15T13:34:16-07:00', 'author': 'Margies Travel', 'moddate': '2020-07-02T08:19:53-07:00', 'title': 'Brochure', 'subject': 'Brochure', 'source': 'docs\\\\Margies Travel Company Info.pdf', 'total_pages': 1, 'page': 0, 'page_label': '1'}, page_content='Wherever you want to go, Margie’s Travel can get you there! \\nMargie’s Travel is a world-leading travel agency, combining international reach with local'),\n",
       " Document(metadata={'producer': '䵩捲潳潦璮⁗潲搠景爠佦晩捥″㘵㬠浯摩晩敤⁵獩湧\\u2069呥硴卨慲瀠㐮ㄮ㘠批‱吳塔', 'creator': 'Microsoft® Word for Office 365', 'creationdate': '2019-04-15T13:34:16-07:00', 'author': 'Margies Travel', 'moddate': '2020-07-02T08:19:53-07:00', 'title': 'Brochure', 'subject': 'Brochure', 'source': 'docs\\\\Margies Travel Company Info.pdf', 'total_pages': 1, 'page': 0, 'page_label': '1'}, page_content='expertise. Just tell us where you want to go, and we can arrange: \\n• Flights \\n• Accommodation \\n• Transfers \\n• Visas \\n• Currency Exchange \\n• Excursions \\n \\nWhere We Go'),\n",
       " Document(metadata={'producer': '䵩捲潳潦璮⁗潲搠景爠佦晩捥″㘵㬠浯摩晩敤⁵獩湧\\u2069呥硴卨慲瀠㐮ㄮ㘠批‱吳塔', 'creator': 'Microsoft® Word for Office 365', 'creationdate': '2019-04-15T13:34:16-07:00', 'author': 'Margies Travel', 'moddate': '2020-07-02T08:19:53-07:00', 'title': 'Brochure', 'subject': 'Brochure', 'source': 'docs\\\\Margies Travel Company Info.pdf', 'total_pages': 1, 'page': 0, 'page_label': '1'}, page_content='• Currency Exchange \\n• Excursions \\n \\nWhere We Go \\nWhile we can arrange travel to anywhere \\nworldwide, we specialize in trips to: \\n• Dubai \\n• Las Vegas \\n• London \\n• New York \\n• San Francisco'),\n",
       " Document(metadata={'producer': '䵩捲潳潦璮⁗潲搠景爠佦晩捥″㘵㬠浯摩晩敤⁵獩湧\\u2069呥硴卨慲瀠㐮ㄮ㘠批‱吳塔', 'creator': 'Microsoft® Word for Office 365', 'creationdate': '2019-04-15T13:34:16-07:00', 'author': 'Margies Travel', 'moddate': '2020-07-02T08:19:53-07:00', 'title': 'Brochure', 'subject': 'Brochure', 'source': 'docs\\\\Margies Travel Company Info.pdf', 'total_pages': 1, 'page': 0, 'page_label': '1'}, page_content='• London \\n• New York \\n• San Francisco \\nWho We Are \\nMargie’s Travel employs some of the \\nbest travel experts in the world. Our \\nleadership team consists of: \\n• Marjorie Long (CEO) \\n• Logan Reid (CFO)'),\n",
       " Document(metadata={'producer': '䵩捲潳潦璮⁗潲搠景爠佦晩捥″㘵㬠浯摩晩敤⁵獩湧\\u2069呥硴卨慲瀠㐮ㄮ㘠批‱吳塔', 'creator': 'Microsoft® Word for Office 365', 'creationdate': '2019-04-15T13:34:16-07:00', 'author': 'Margies Travel', 'moddate': '2020-07-02T08:19:53-07:00', 'title': 'Brochure', 'subject': 'Brochure', 'source': 'docs\\\\Margies Travel Company Info.pdf', 'total_pages': 1, 'page': 0, 'page_label': '1'}, page_content='• Marjorie Long (CEO) \\n• Logan Reid (CFO) \\n• Emma Luffman (CTO) \\n• Deepak Nadar (Strategic Director) \\n \\nTo learn more about us, visit our website at www.margiestravel.com'),\n",
       " Document(metadata={'producer': '䵩捲潳潦璮⁗潲搠景爠佦晩捥″㘵㬠浯摩晩敤⁵獩湧\\u2069呥硴卨慲瀠㐮ㄮ㘠批‱吳塔', 'creator': 'Microsoft® Word for Office 365', 'creationdate': '2019-04-17T14:59:33-07:00', 'author': 'Margies Travel', 'moddate': '2020-07-02T08:19:54-07:00', 'title': 'Brochure', 'subject': 'Brochure', 'source': 'docs\\\\New York Brochure.pdf', 'total_pages': 1, 'page': 0, 'page_label': '1'}, page_content='Margie’s Travel Presents… \\nNew York \\nThe City of New York, often called New York City or simply \\nNew York, is the most populous city in the United States.'),\n",
       " Document(metadata={'producer': '䵩捲潳潦璮⁗潲搠景爠佦晩捥″㘵㬠浯摩晩敤⁵獩湧\\u2069呥硴卨慲瀠㐮ㄮ㘠批‱吳塔', 'creator': 'Microsoft® Word for Office 365', 'creationdate': '2019-04-17T14:59:33-07:00', 'author': 'Margies Travel', 'moddate': '2020-07-02T08:19:54-07:00', 'title': 'Brochure', 'subject': 'Brochure', 'source': 'docs\\\\New York Brochure.pdf', 'total_pages': 1, 'page': 0, 'page_label': '1'}, page_content='With an estimated 2015 population of 8,550,405 distributed \\nover a land area of about 302.6 square miles, New York \\nCity is also the most densely populated major city in the'),\n",
       " Document(metadata={'producer': '䵩捲潳潦璮⁗潲搠景爠佦晩捥″㘵㬠浯摩晩敤⁵獩湧\\u2069呥硴卨慲瀠㐮ㄮ㘠批‱吳塔', 'creator': 'Microsoft® Word for Office 365', 'creationdate': '2019-04-17T14:59:33-07:00', 'author': 'Margies Travel', 'moddate': '2020-07-02T08:19:54-07:00', 'title': 'Brochure', 'subject': 'Brochure', 'source': 'docs\\\\New York Brochure.pdf', 'total_pages': 1, 'page': 0, 'page_label': '1'}, page_content='United States. Located at the southern tip of the state of \\nNew York, the city is the center of the New York \\nmetropolitan area, one of the most populous urban'),\n",
       " Document(metadata={'producer': '䵩捲潳潦璮⁗潲搠景爠佦晩捥″㘵㬠浯摩晩敤⁵獩湧\\u2069呥硴卨慲瀠㐮ㄮ㘠批‱吳塔', 'creator': 'Microsoft® Word for Office 365', 'creationdate': '2019-04-17T14:59:33-07:00', 'author': 'Margies Travel', 'moddate': '2020-07-02T08:19:54-07:00', 'title': 'Brochure', 'subject': 'Brochure', 'source': 'docs\\\\New York Brochure.pdf', 'total_pages': 1, 'page': 0, 'page_label': '1'}, page_content='agglomerations in the world. A global power city, New York \\nCity exerts a significant impact upon commerce, finance, \\nmedia, art, fashion, research, technology, education, and'),\n",
       " Document(metadata={'producer': '䵩捲潳潦璮⁗潲搠景爠佦晩捥″㘵㬠浯摩晩敤⁵獩湧\\u2069呥硴卨慲瀠㐮ㄮ㘠批‱吳塔', 'creator': 'Microsoft® Word for Office 365', 'creationdate': '2019-04-17T14:59:33-07:00', 'author': 'Margies Travel', 'moddate': '2020-07-02T08:19:54-07:00', 'title': 'Brochure', 'subject': 'Brochure', 'source': 'docs\\\\New York Brochure.pdf', 'total_pages': 1, 'page': 0, 'page_label': '1'}, page_content='entertainment, its fast pace defining the term New York \\nminute. Home to the headquarters of the United Nations, \\nNew York is an important center for international diplomacy'),\n",
       " Document(metadata={'producer': '䵩捲潳潦璮⁗潲搠景爠佦晩捥″㘵㬠浯摩晩敤⁵獩湧\\u2069呥硴卨慲瀠㐮ㄮ㘠批‱吳塔', 'creator': 'Microsoft® Word for Office 365', 'creationdate': '2019-04-17T14:59:33-07:00', 'author': 'Margies Travel', 'moddate': '2020-07-02T08:19:54-07:00', 'title': 'Brochure', 'subject': 'Brochure', 'source': 'docs\\\\New York Brochure.pdf', 'total_pages': 1, 'page': 0, 'page_label': '1'}, page_content='and has been described as the cultural and financial capital \\nof the world. \\n \\nNew York Hotels \\nMargie’s Travel offers the following accommodation options \\nin New York: \\nThe Manhattan Hotel'),\n",
       " Document(metadata={'producer': '䵩捲潳潦璮⁗潲搠景爠佦晩捥″㘵㬠浯摩晩敤⁵獩湧\\u2069呥硴卨慲瀠㐮ㄮ㘠批‱吳塔', 'creator': 'Microsoft® Word for Office 365', 'creationdate': '2019-04-17T14:59:33-07:00', 'author': 'Margies Travel', 'moddate': '2020-07-02T08:19:54-07:00', 'title': 'Brochure', 'subject': 'Brochure', 'source': 'docs\\\\New York Brochure.pdf', 'total_pages': 1, 'page': 0, 'page_label': '1'}, page_content='in New York: \\nThe Manhattan Hotel \\nStay in the heart of New York City, within an easy walk to \\nTimes Square and Broadway. \\nThe Grand Central Hotel \\nComfortable mid-town hotel. Close to Grand Central'),\n",
       " Document(metadata={'producer': '䵩捲潳潦璮⁗潲搠景爠佦晩捥″㘵㬠浯摩晩敤⁵獩湧\\u2069呥硴卨慲瀠㐮ㄮ㘠批‱吳塔', 'creator': 'Microsoft® Word for Office 365', 'creationdate': '2019-04-17T14:59:33-07:00', 'author': 'Margies Travel', 'moddate': '2020-07-02T08:19:54-07:00', 'title': 'Brochure', 'subject': 'Brochure', 'source': 'docs\\\\New York Brochure.pdf', 'total_pages': 1, 'page': 0, 'page_label': '1'}, page_content='Station, the Chrysler Building, and the Empire State \\nBuilding. \\nThe Park Hotel \\nLuxurious accommodation in upper Manhattan, with views \\nof Central Park.'),\n",
       " Document(metadata={'producer': '䵩捲潳潦璮⁗潲搠景爠佦晩捥″㘵㬠浯摩晩敤⁵獩湧\\u2069呥硴卨慲瀠㐮ㄮ㘠批‱吳塔', 'creator': 'Microsoft® Word for Office 365', 'creationdate': '2019-04-17T14:59:33-07:00', 'author': 'Margies Travel', 'moddate': '2020-07-02T08:19:54-07:00', 'title': 'Brochure', 'subject': 'Brochure', 'source': 'docs\\\\New York Brochure.pdf', 'total_pages': 1, 'page': 0, 'page_label': '1'}, page_content='of Central Park. \\n \\n \\nTo book your trip to New York, visit www.margiestravel.com'),\n",
       " Document(metadata={'producer': '䵩捲潳潦璮⁗潲搠景爠佦晩捥″㘵㬠浯摩晩敤⁵獩湧\\u2069呥硴卨慲瀠㐮ㄮ㘠批‱吳塔', 'creator': 'Microsoft® Word for Office 365', 'creationdate': '2019-04-17T15:05:27-07:00', 'author': 'Margies Travel', 'moddate': '2020-07-02T08:19:54-07:00', 'title': 'Brochure', 'subject': 'Brochure', 'source': 'docs\\\\San Francisco Brochure.pdf', 'total_pages': 1, 'page': 0, 'page_label': '1'}, page_content='Margie’s Travel Presents… \\nSan Francisco \\nSan Francisco, officially the City and County of San \\nFrancisco, is the cultural, commercial, and financial'),\n",
       " Document(metadata={'producer': '䵩捲潳潦璮⁗潲搠景爠佦晩捥″㘵㬠浯摩晩敤⁵獩湧\\u2069呥硴卨慲瀠㐮ㄮ㘠批‱吳塔', 'creator': 'Microsoft® Word for Office 365', 'creationdate': '2019-04-17T15:05:27-07:00', 'author': 'Margies Travel', 'moddate': '2020-07-02T08:19:54-07:00', 'title': 'Brochure', 'subject': 'Brochure', 'source': 'docs\\\\San Francisco Brochure.pdf', 'total_pages': 1, 'page': 0, 'page_label': '1'}, page_content='center of Northern California. It is the birthplace of \\nthe United Nations. Located at the north end of the \\nSan Francisco Peninsula, San Francisco is about'),\n",
       " Document(metadata={'producer': '䵩捲潳潦璮⁗潲搠景爠佦晩捥″㘵㬠浯摩晩敤⁵獩湧\\u2069呥硴卨慲瀠㐮ㄮ㘠批‱吳塔', 'creator': 'Microsoft® Word for Office 365', 'creationdate': '2019-04-17T15:05:27-07:00', 'author': 'Margies Travel', 'moddate': '2020-07-02T08:19:54-07:00', 'title': 'Brochure', 'subject': 'Brochure', 'source': 'docs\\\\San Francisco Brochure.pdf', 'total_pages': 1, 'page': 0, 'page_label': '1'}, page_content='San Francisco Peninsula, San Francisco is about \\n47.9 square miles in area, making it the smallest \\ncounty—and the only consolidated city-county—'),\n",
       " Document(metadata={'producer': '䵩捲潳潦璮⁗潲搠景爠佦晩捥″㘵㬠浯摩晩敤⁵獩湧\\u2069呥硴卨慲瀠㐮ㄮ㘠批‱吳塔', 'creator': 'Microsoft® Word for Office 365', 'creationdate': '2019-04-17T15:05:27-07:00', 'author': 'Margies Travel', 'moddate': '2020-07-02T08:19:54-07:00', 'title': 'Brochure', 'subject': 'Brochure', 'source': 'docs\\\\San Francisco Brochure.pdf', 'total_pages': 1, 'page': 0, 'page_label': '1'}, page_content='county—and the only consolidated city-county—\\nwithin the state of California. With a density of about \\n18,581 people per square mile, San Francisco is the'),\n",
       " Document(metadata={'producer': '䵩捲潳潦璮⁗潲搠景爠佦晩捥″㘵㬠浯摩晩敤⁵獩湧\\u2069呥硴卨慲瀠㐮ㄮ㘠批‱吳塔', 'creator': 'Microsoft® Word for Office 365', 'creationdate': '2019-04-17T15:05:27-07:00', 'author': 'Margies Travel', 'moddate': '2020-07-02T08:19:54-07:00', 'title': 'Brochure', 'subject': 'Brochure', 'source': 'docs\\\\San Francisco Brochure.pdf', 'total_pages': 1, 'page': 0, 'page_label': '1'}, page_content='most densely settled large city in California and the \\nsecond-most densely populated major city in the \\nUnited States after New York City. San Francisco is'),\n",
       " Document(metadata={'producer': '䵩捲潳潦璮⁗潲搠景爠佦晩捥″㘵㬠浯摩晩敤⁵獩湧\\u2069呥硴卨慲瀠㐮ㄮ㘠批‱吳塔', 'creator': 'Microsoft® Word for Office 365', 'creationdate': '2019-04-17T15:05:27-07:00', 'author': 'Margies Travel', 'moddate': '2020-07-02T08:19:54-07:00', 'title': 'Brochure', 'subject': 'Brochure', 'source': 'docs\\\\San Francisco Brochure.pdf', 'total_pages': 1, 'page': 0, 'page_label': '1'}, page_content='the fourth-most populous city in California, after Los \\nAngeles, San Diego, and San Jose, and the 13th-\\nmost populous city in the United States—with a'),\n",
       " Document(metadata={'producer': '䵩捲潳潦璮⁗潲搠景爠佦晩捥″㘵㬠浯摩晩敤⁵獩湧\\u2069呥硴卨慲瀠㐮ㄮ㘠批‱吳塔', 'creator': 'Microsoft® Word for Office 365', 'creationdate': '2019-04-17T15:05:27-07:00', 'author': 'Margies Travel', 'moddate': '2020-07-02T08:19:54-07:00', 'title': 'Brochure', 'subject': 'Brochure', 'source': 'docs\\\\San Francisco Brochure.pdf', 'total_pages': 1, 'page': 0, 'page_label': '1'}, page_content='most populous city in the United States—with a \\ncensus-estimated 2016 population of 870,887. The \\ncity and its surrounding areas are known as the San'),\n",
       " Document(metadata={'producer': '䵩捲潳潦璮⁗潲搠景爠佦晩捥″㘵㬠浯摩晩敤⁵獩湧\\u2069呥硴卨慲瀠㐮ㄮ㘠批‱吳塔', 'creator': 'Microsoft® Word for Office 365', 'creationdate': '2019-04-17T15:05:27-07:00', 'author': 'Margies Travel', 'moddate': '2020-07-02T08:19:54-07:00', 'title': 'Brochure', 'subject': 'Brochure', 'source': 'docs\\\\San Francisco Brochure.pdf', 'total_pages': 1, 'page': 0, 'page_label': '1'}, page_content='Francisco Bay Area, and are a part of the larger \\nOMB-designated San Jose-San Francisco-Oakland \\ncombined statistical area, the fifth most populous in'),\n",
       " Document(metadata={'producer': '䵩捲潳潦璮⁗潲搠景爠佦晩捥″㘵㬠浯摩晩敤⁵獩湧\\u2069呥硴卨慲瀠㐮ㄮ㘠批‱吳塔', 'creator': 'Microsoft® Word for Office 365', 'creationdate': '2019-04-17T15:05:27-07:00', 'author': 'Margies Travel', 'moddate': '2020-07-02T08:19:54-07:00', 'title': 'Brochure', 'subject': 'Brochure', 'source': 'docs\\\\San Francisco Brochure.pdf', 'total_pages': 1, 'page': 0, 'page_label': '1'}, page_content='the nation with an estimated population of 8.7 million. \\n \\nSan Francisco Hotels \\nMargie’s Travel offers the following accommodation options \\nin San Francisco: \\nThe Lombard Hotel'),\n",
       " Document(metadata={'producer': '䵩捲潳潦璮⁗潲搠景爠佦晩捥″㘵㬠浯摩晩敤⁵獩湧\\u2069呥硴卨慲瀠㐮ㄮ㘠批‱吳塔', 'creator': 'Microsoft® Word for Office 365', 'creationdate': '2019-04-17T15:05:27-07:00', 'author': 'Margies Travel', 'moddate': '2020-07-02T08:19:54-07:00', 'title': 'Brochure', 'subject': 'Brochure', 'source': 'docs\\\\San Francisco Brochure.pdf', 'total_pages': 1, 'page': 0, 'page_label': '1'}, page_content='in San Francisco: \\nThe Lombard Hotel \\nFriendly, family-run hotel within easy walking distance to \\npopular sights, including the Golden Gate Bridge and the \\nPresidio. Free Parking. \\nThe Wharf Hotel'),\n",
       " Document(metadata={'producer': '䵩捲潳潦璮⁗潲搠景爠佦晩捥″㘵㬠浯摩晩敤⁵獩湧\\u2069呥硴卨慲瀠㐮ㄮ㘠批‱吳塔', 'creator': 'Microsoft® Word for Office 365', 'creationdate': '2019-04-17T15:05:27-07:00', 'author': 'Margies Travel', 'moddate': '2020-07-02T08:19:54-07:00', 'title': 'Brochure', 'subject': 'Brochure', 'source': 'docs\\\\San Francisco Brochure.pdf', 'total_pages': 1, 'page': 0, 'page_label': '1'}, page_content='Presidio. Free Parking. \\nThe Wharf Hotel \\nGreat value accommodation in the heart of the vibrant \\nFisherman’s Wharf area. Continental Breakfast included.'),\n",
       " Document(metadata={'producer': '䵩捲潳潦璮⁗潲搠景爠佦晩捥″㘵㬠浯摩晩敤⁵獩湧\\u2069呥硴卨慲瀠㐮ㄮ㘠批‱吳塔', 'creator': 'Microsoft® Word for Office 365', 'creationdate': '2019-04-17T15:05:27-07:00', 'author': 'Margies Travel', 'moddate': '2020-07-02T08:19:54-07:00', 'title': 'Brochure', 'subject': 'Brochure', 'source': 'docs\\\\San Francisco Brochure.pdf', 'total_pages': 1, 'page': 0, 'page_label': '1'}, page_content='To book your trip to San Francisco, visit www.margiestravel.com')]"
      ]
     },
     "execution_count": 11,
     "metadata": {},
     "output_type": "execute_result"
    }
   ],
   "source": [
    "OPENAI_ENDPOINT = os.getenv(\"OPENAI_ENDPOINT\")\n",
    "OPENAI_API_KEY = os.getenv(\"OPENAI_API_KEY\")\n",
    "CHAT_MODEL = os.getenv(\"CHAT_MODEL\")\n",
    "EMBEDDING_MODEL = os.getenv(\"EMBEDDING_MODEL\")\n",
    "OPENAI_API_VERSION = os.getenv(\"OPENAI_API_VERSION\")\n",
    "QDRANT_ENDPOINT = os.getenv(\"QDRANT_ENDPOINT\")\n",
    "QDRANT_API_KEY = os.getenv(\"QDRANT_API_KEY\")\n",
    "\n",
    "\n",
    "embeddings = AzureOpenAIEmbeddings(\n",
    "    model=\"EMBEDDING_MODEL\",\n",
    "    azure_endpoint=\"OPENAI_ENDPOINT\",\n",
    "    api_key=\"OPENAI_API_KEY\"\n",
    ")\n",
    "\n"
   ]
  },
  {
   "cell_type": "code",
   "execution_count": null,
   "id": "42a8eaac",
   "metadata": {},
   "outputs": [
    {
     "ename": "ValueError",
     "evalue": "`host` param is not expected to contain protocol (http:// or https://). Try to use `url` parameter instead.",
     "output_type": "error",
     "traceback": [
      "\u001b[1;31m---------------------------------------------------------------------------\u001b[0m",
      "\u001b[1;31mValueError\u001b[0m                                Traceback (most recent call last)",
      "Cell \u001b[1;32mIn[4], line 1\u001b[0m\n\u001b[1;32m----> 1\u001b[0m qdrant_client \u001b[38;5;241m=\u001b[39m \u001b[43mQdrantClient\u001b[49m\u001b[43m(\u001b[49m\n\u001b[0;32m      2\u001b[0m \u001b[43m    \u001b[49m\u001b[43mhost\u001b[49m\u001b[38;5;241;43m=\u001b[39;49m\u001b[43mQDRANT_ENDPOINT\u001b[49m\u001b[43m,\u001b[49m\n\u001b[0;32m      3\u001b[0m \u001b[43m    \u001b[49m\u001b[43mapi_key\u001b[49m\u001b[38;5;241;43m=\u001b[39;49m\u001b[43mQDRANT_API_KEY\u001b[49m\u001b[43m,\u001b[49m\n\u001b[0;32m      4\u001b[0m \u001b[43m)\u001b[49m\n\u001b[0;32m      6\u001b[0m collection \u001b[38;5;241m=\u001b[39m \u001b[38;5;124m\"\u001b[39m\u001b[38;5;124macc_test\u001b[39m\u001b[38;5;124m\"\u001b[39m\n\u001b[0;32m      8\u001b[0m client\u001b[38;5;241m.\u001b[39mrecreate_collection(\n\u001b[0;32m      9\u001b[0m     collection_name\u001b[38;5;241m=\u001b[39mcollection,\n\u001b[0;32m     10\u001b[0m     vectors_config\u001b[38;5;241m=\u001b[39mmodels\u001b[38;5;241m.\u001b[39mVectorParams(\n\u001b[0;32m     11\u001b[0m         size\u001b[38;5;241m=\u001b[39membeddings\u001b[38;5;241m.\u001b[39mshape[\u001b[38;5;241m1\u001b[39m], distance\u001b[38;5;241m=\u001b[39mmodels\u001b[38;5;241m.\u001b[39mDistance\u001b[38;5;241m.\u001b[39mCOSINE\n\u001b[0;32m     12\u001b[0m     )\n\u001b[0;32m     13\u001b[0m )\n",
      "File \u001b[1;32mc:\\Users\\Alex\\AppData\\Local\\Programs\\Python\\Python312\\Lib\\site-packages\\qdrant_client\\qdrant_client.py:134\u001b[0m, in \u001b[0;36mQdrantClient.__init__\u001b[1;34m(self, location, url, port, grpc_port, prefer_grpc, https, api_key, prefix, timeout, host, path, force_disable_check_same_thread, grpc_options, auth_token_provider, **kwargs)\u001b[0m\n\u001b[0;32m    132\u001b[0m \u001b[38;5;28;01mif\u001b[39;00m location \u001b[38;5;129;01mis\u001b[39;00m \u001b[38;5;129;01mnot\u001b[39;00m \u001b[38;5;28;01mNone\u001b[39;00m \u001b[38;5;129;01mand\u001b[39;00m url \u001b[38;5;129;01mis\u001b[39;00m \u001b[38;5;28;01mNone\u001b[39;00m:\n\u001b[0;32m    133\u001b[0m     url \u001b[38;5;241m=\u001b[39m location\n\u001b[1;32m--> 134\u001b[0m \u001b[38;5;28mself\u001b[39m\u001b[38;5;241m.\u001b[39m_client \u001b[38;5;241m=\u001b[39m \u001b[43mQdrantRemote\u001b[49m\u001b[43m(\u001b[49m\n\u001b[0;32m    135\u001b[0m \u001b[43m    \u001b[49m\u001b[43murl\u001b[49m\u001b[38;5;241;43m=\u001b[39;49m\u001b[43murl\u001b[49m\u001b[43m,\u001b[49m\n\u001b[0;32m    136\u001b[0m \u001b[43m    \u001b[49m\u001b[43mport\u001b[49m\u001b[38;5;241;43m=\u001b[39;49m\u001b[43mport\u001b[49m\u001b[43m,\u001b[49m\n\u001b[0;32m    137\u001b[0m \u001b[43m    \u001b[49m\u001b[43mgrpc_port\u001b[49m\u001b[38;5;241;43m=\u001b[39;49m\u001b[43mgrpc_port\u001b[49m\u001b[43m,\u001b[49m\n\u001b[0;32m    138\u001b[0m \u001b[43m    \u001b[49m\u001b[43mprefer_grpc\u001b[49m\u001b[38;5;241;43m=\u001b[39;49m\u001b[43mprefer_grpc\u001b[49m\u001b[43m,\u001b[49m\n\u001b[0;32m    139\u001b[0m \u001b[43m    \u001b[49m\u001b[43mhttps\u001b[49m\u001b[38;5;241;43m=\u001b[39;49m\u001b[43mhttps\u001b[49m\u001b[43m,\u001b[49m\n\u001b[0;32m    140\u001b[0m \u001b[43m    \u001b[49m\u001b[43mapi_key\u001b[49m\u001b[38;5;241;43m=\u001b[39;49m\u001b[43mapi_key\u001b[49m\u001b[43m,\u001b[49m\n\u001b[0;32m    141\u001b[0m \u001b[43m    \u001b[49m\u001b[43mprefix\u001b[49m\u001b[38;5;241;43m=\u001b[39;49m\u001b[43mprefix\u001b[49m\u001b[43m,\u001b[49m\n\u001b[0;32m    142\u001b[0m \u001b[43m    \u001b[49m\u001b[43mtimeout\u001b[49m\u001b[38;5;241;43m=\u001b[39;49m\u001b[43mtimeout\u001b[49m\u001b[43m,\u001b[49m\n\u001b[0;32m    143\u001b[0m \u001b[43m    \u001b[49m\u001b[43mhost\u001b[49m\u001b[38;5;241;43m=\u001b[39;49m\u001b[43mhost\u001b[49m\u001b[43m,\u001b[49m\n\u001b[0;32m    144\u001b[0m \u001b[43m    \u001b[49m\u001b[43mgrpc_options\u001b[49m\u001b[38;5;241;43m=\u001b[39;49m\u001b[43mgrpc_options\u001b[49m\u001b[43m,\u001b[49m\n\u001b[0;32m    145\u001b[0m \u001b[43m    \u001b[49m\u001b[43mauth_token_provider\u001b[49m\u001b[38;5;241;43m=\u001b[39;49m\u001b[43mauth_token_provider\u001b[49m\u001b[43m,\u001b[49m\n\u001b[0;32m    146\u001b[0m \u001b[43m    \u001b[49m\u001b[38;5;241;43m*\u001b[39;49m\u001b[38;5;241;43m*\u001b[39;49m\u001b[43mkwargs\u001b[49m\u001b[43m,\u001b[49m\n\u001b[0;32m    147\u001b[0m \u001b[43m\u001b[49m\u001b[43m)\u001b[49m\n",
      "File \u001b[1;32mc:\\Users\\Alex\\AppData\\Local\\Programs\\Python\\Python312\\Lib\\site-packages\\qdrant_client\\qdrant_remote.py:79\u001b[0m, in \u001b[0;36mQdrantRemote.__init__\u001b[1;34m(self, url, port, grpc_port, prefer_grpc, https, api_key, prefix, timeout, host, grpc_options, auth_token_provider, **kwargs)\u001b[0m\n\u001b[0;32m     76\u001b[0m     \u001b[38;5;28;01mraise\u001b[39;00m \u001b[38;5;167;01mValueError\u001b[39;00m(\u001b[38;5;124mf\u001b[39m\u001b[38;5;124m\"\u001b[39m\u001b[38;5;124mOnly one of (url, host) can be set. url is \u001b[39m\u001b[38;5;132;01m{\u001b[39;00murl\u001b[38;5;132;01m}\u001b[39;00m\u001b[38;5;124m, host is \u001b[39m\u001b[38;5;132;01m{\u001b[39;00mhost\u001b[38;5;132;01m}\u001b[39;00m\u001b[38;5;124m\"\u001b[39m)\n\u001b[0;32m     78\u001b[0m \u001b[38;5;28;01mif\u001b[39;00m host \u001b[38;5;129;01mis\u001b[39;00m \u001b[38;5;129;01mnot\u001b[39;00m \u001b[38;5;28;01mNone\u001b[39;00m \u001b[38;5;129;01mand\u001b[39;00m (host\u001b[38;5;241m.\u001b[39mstartswith(\u001b[38;5;124m\"\u001b[39m\u001b[38;5;124mhttp://\u001b[39m\u001b[38;5;124m\"\u001b[39m) \u001b[38;5;129;01mor\u001b[39;00m host\u001b[38;5;241m.\u001b[39mstartswith(\u001b[38;5;124m\"\u001b[39m\u001b[38;5;124mhttps://\u001b[39m\u001b[38;5;124m\"\u001b[39m)):\n\u001b[1;32m---> 79\u001b[0m     \u001b[38;5;28;01mraise\u001b[39;00m \u001b[38;5;167;01mValueError\u001b[39;00m(\n\u001b[0;32m     80\u001b[0m         \u001b[38;5;124mf\u001b[39m\u001b[38;5;124m\"\u001b[39m\u001b[38;5;124m`host` param is not expected to contain protocol (http:// or https://). \u001b[39m\u001b[38;5;124m\"\u001b[39m\n\u001b[0;32m     81\u001b[0m         \u001b[38;5;124mf\u001b[39m\u001b[38;5;124m\"\u001b[39m\u001b[38;5;124mTry to use `url` parameter instead.\u001b[39m\u001b[38;5;124m\"\u001b[39m\n\u001b[0;32m     82\u001b[0m     )\n\u001b[0;32m     84\u001b[0m \u001b[38;5;28;01melif\u001b[39;00m url:\n\u001b[0;32m     85\u001b[0m     \u001b[38;5;28;01mif\u001b[39;00m url\u001b[38;5;241m.\u001b[39mstartswith(\u001b[38;5;124m\"\u001b[39m\u001b[38;5;124mlocalhost\u001b[39m\u001b[38;5;124m\"\u001b[39m):\n\u001b[0;32m     86\u001b[0m         \u001b[38;5;66;03m# Handle for a special case when url is localhost:port\u001b[39;00m\n\u001b[0;32m     87\u001b[0m         \u001b[38;5;66;03m# Which is not parsed correctly by urllib\u001b[39;00m\n",
      "\u001b[1;31mValueError\u001b[0m: `host` param is not expected to contain protocol (http:// or https://). Try to use `url` parameter instead."
     ]
    }
   ],
   "source": [
    "\n",
    "# qdrant_client = QdrantClient(\n",
    "#     host=QDRANT_ENDPOINT,\n",
    "#     api_key=QDRANT_API_KEY,\n",
    "# )\n",
    "\n",
    "# collection = \"acc_test\"\n",
    "\n",
    "# client.recreate_collection(\n",
    "#     collection_name=collection,\n",
    "#     vectors_config=models.VectorParams(\n",
    "#         size=embeddings.shape[1], distance=models.Distance.COSINE\n",
    "#     )\n",
    "# )\n",
    "\n",
    "# qdrant = QdrantVectorStore.from_documents(\n",
    "#     all_docs,\n",
    "#     embeddings,\n",
    "#     url=QDRANT_ENDPOINT,\n",
    "#     api_key=QDRANT_API_KEY,\n",
    "#     collection_name=\"acc_data\",\n",
    "# )\n",
    "\n",
    "from qdrant_client import QdrantClient\n",
    "\n",
    "client = QdrantClient(url=\"http://localhost:6333\")\n"
   ]
  }
 ],
 "metadata": {
  "kernelspec": {
   "display_name": "Python 3",
   "language": "python",
   "name": "python3"
  },
  "language_info": {
   "codemirror_mode": {
    "name": "ipython",
    "version": 3
   },
   "file_extension": ".py",
   "mimetype": "text/x-python",
   "name": "python",
   "nbconvert_exporter": "python",
   "pygments_lexer": "ipython3",
   "version": "3.12.2"
  }
 },
 "nbformat": 4,
 "nbformat_minor": 5
}
